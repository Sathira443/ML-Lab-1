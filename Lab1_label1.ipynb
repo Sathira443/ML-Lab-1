{
  "nbformat": 4,
  "nbformat_minor": 0,
  "metadata": {
    "colab": {
      "provenance": [],
      "mount_file_id": "1QKrT9GPyRQF-IrXeon7Bx4Dh-9V6q1D9",
      "authorship_tag": "ABX9TyMVskVGB7BRrt8lh06isNa/",
      "include_colab_link": true
    },
    "kernelspec": {
      "name": "python3",
      "display_name": "Python 3"
    },
    "language_info": {
      "name": "python"
    }
  },
  "cells": [
    {
      "cell_type": "markdown",
      "metadata": {
        "id": "view-in-github",
        "colab_type": "text"
      },
      "source": [
        "<a href=\"https://colab.research.google.com/github/Sathira443/ML-Lab-1/blob/main/Lab1_label1.ipynb\" target=\"_parent\"><img src=\"https://colab.research.google.com/assets/colab-badge.svg\" alt=\"Open In Colab\"/></a>"
      ]
    },
    {
      "cell_type": "markdown",
      "source": [
        "Read the data from csv files and import libraries"
      ],
      "metadata": {
        "id": "ljiogUhOcu6U"
      }
    },
    {
      "cell_type": "code",
      "execution_count": null,
      "metadata": {
        "id": "g3ADvB0ZynE_"
      },
      "outputs": [],
      "source": [
        "import pandas as pd\n",
        "import numpy as np\n",
        "from sklearn.preprocessing import StandardScaler\n",
        "from sklearn.ensemble import RandomForestClassifier\n",
        "from sklearn.decomposition import PCA\n",
        "\n",
        "df_train = pd.read_csv(\"/content/drive/MyDrive/Colab Notebooks/train.csv\")\n",
        "df_test = pd.read_csv(\"/content/drive/MyDrive/Colab Notebooks/valid.csv\")"
      ]
    },
    {
      "cell_type": "markdown",
      "source": [
        "Separate features and labels"
      ],
      "metadata": {
        "id": "LjPDJVuxc5-m"
      }
    },
    {
      "cell_type": "code",
      "source": [
        "label_columns = ['label_1', 'label_2', 'label_3', 'label_4']\n",
        "df_train_X = df_train.drop(label_columns, axis=1)\n",
        "df_train_y = df_train['label_1']\n",
        "df_test_X = df_test.drop(label_columns, axis=1)\n",
        "df_test_y = df_test['label_1']"
      ],
      "metadata": {
        "id": "Xv_eSW3CyxY1"
      },
      "execution_count": null,
      "outputs": []
    },
    {
      "cell_type": "markdown",
      "source": [
        "Standardize the data"
      ],
      "metadata": {
        "id": "gWwT7rQMc9R9"
      }
    },
    {
      "cell_type": "code",
      "source": [
        "scaler = StandardScaler()\n",
        "df_train_X_scaled = scaler.fit_transform(df_train_X)\n",
        "df_test_X_scaled = scaler.transform(df_test_X)"
      ],
      "metadata": {
        "id": "xAYb3Keky0p9"
      },
      "execution_count": null,
      "outputs": []
    },
    {
      "cell_type": "markdown",
      "source": [
        "Train initial model using RandomForestClassifier"
      ],
      "metadata": {
        "id": "wuh1fOgIdDYa"
      }
    },
    {
      "cell_type": "code",
      "source": [
        "model = RandomForestClassifier()\n",
        "model.fit(df_train_X_scaled, df_train_y)\n",
        "y_pred_before = model.predict(df_test_X_scaled)"
      ],
      "metadata": {
        "id": "ydvIU2kT01Rw"
      },
      "execution_count": null,
      "outputs": []
    },
    {
      "cell_type": "markdown",
      "source": [
        "Apply PCA"
      ],
      "metadata": {
        "id": "i6KKBaHAdrmW"
      }
    },
    {
      "cell_type": "code",
      "source": [
        "pca = PCA(0.95)\n",
        "pca.fit(df_train_X_scaled)\n",
        "pca_train_X = pca.transform(df_train_X_scaled)\n",
        "pca_test_X = pca.transform(df_test_X_scaled)"
      ],
      "metadata": {
        "id": "6AHQiQLz03o0"
      },
      "execution_count": null,
      "outputs": []
    },
    {
      "cell_type": "markdown",
      "source": [
        "Train model after PCA"
      ],
      "metadata": {
        "id": "qiXkXcHHdxql"
      }
    },
    {
      "cell_type": "code",
      "source": [
        "model_after = RandomForestClassifier()\n",
        "model_after.fit(pca_train_X, df_train_y)\n",
        "y_pred_after = model_after.predict(pca_test_X)"
      ],
      "metadata": {
        "id": "V0sJfy-PhgV7"
      },
      "execution_count": null,
      "outputs": []
    },
    {
      "cell_type": "markdown",
      "source": [
        "Feature importance and selection"
      ],
      "metadata": {
        "id": "yRBuj-9Fd2MJ"
      }
    },
    {
      "cell_type": "code",
      "source": [
        "importance = model_after.feature_importances_\n",
        "selected_columns = importance >= 0.01\n",
        "reduced_pca_train_X = pca_train_X[:, selected_columns]\n",
        "reduced_pca_test_X = pca_test_X[:, selected_columns]"
      ],
      "metadata": {
        "id": "nT-ITTOrhibb"
      },
      "execution_count": null,
      "outputs": []
    },
    {
      "cell_type": "markdown",
      "source": [
        "Train final model"
      ],
      "metadata": {
        "id": "TGhGr7S9eWiO"
      }
    },
    {
      "cell_type": "code",
      "source": [
        "model_final = RandomForestClassifier()\n",
        "\n",
        "model_final.fit(reduced_pca_train_X, df_train_y)\n",
        "y_pred_final = model_final.predict(reduced_pca_test_X)"
      ],
      "metadata": {
        "id": "ZBdEikxchkMD"
      },
      "execution_count": null,
      "outputs": []
    },
    {
      "cell_type": "markdown",
      "source": [
        "Create a DataFrame for results"
      ],
      "metadata": {
        "id": "in89gwnmeZae"
      }
    },
    {
      "cell_type": "code",
      "source": [
        "rows, columns = reduced_pca_train_X.shape\n",
        "\n",
        "feature_names = [\"feature_\" + str(i) for i in range(1, columns + 1)]\n",
        "\n",
        "data_frame = pd.DataFrame(reduced_pca_test_X, columns=feature_names)\n",
        "\n",
        "new_columns = {\n",
        "    'No. of features': columns,\n",
        "    'Predicted labels after' : y_pred_final,\n",
        "    'Predicted labels before' : y_pred_before\n",
        "}\n"
      ],
      "metadata": {
        "id": "EtkHOs-Lhm85"
      },
      "execution_count": null,
      "outputs": []
    },
    {
      "cell_type": "markdown",
      "source": [
        "Concatenate feature data and results"
      ],
      "metadata": {
        "id": "34WKJ-A4edHG"
      }
    },
    {
      "cell_type": "code",
      "source": [
        "results_df = pd.DataFrame(new_columns)\n",
        "\n",
        "reduced_pca_test_X_df = pd.DataFrame(reduced_pca_test_X, columns=feature_names)\n",
        "final_df = pd.concat([results_df, reduced_pca_test_X_df], axis=1)\n",
        "\n",
        "csv_file_path = '190359P_label_1.csv'\n",
        "final_df.to_csv(csv_file_path, index=False)"
      ],
      "metadata": {
        "id": "JsfMqAjHhppi"
      },
      "execution_count": null,
      "outputs": []
    }
  ]
}